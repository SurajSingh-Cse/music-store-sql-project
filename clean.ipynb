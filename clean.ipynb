{
 "cells": [
  {
   "cell_type": "code",
   "execution_count": 1,
   "id": "72165f29",
   "metadata": {},
   "outputs": [],
   "source": [
    "import pandas as pd\n",
    "\n"
   ]
  },
  {
   "cell_type": "code",
   "execution_count": 2,
   "id": "324953f3",
   "metadata": {},
   "outputs": [
    {
     "name": "stdout",
     "output_type": "stream",
     "text": [
      "Filtered data saved to 'filtered_invoice_line.csv'\n"
     ]
    }
   ],
   "source": [
    "# Load both CSV files\n",
    "invoice_df = pd.read_csv(\"invoice_line.csv\")\n",
    "track_df = pd.read_csv(\"track.csv\")\n",
    "\n",
    "# Filter: keep only those rows where track_id is in track.csv\n",
    "filtered_df = invoice_df[invoice_df['track_id'].isin(track_df['track_id'])]\n",
    "\n",
    "# Save the cleaned data\n",
    "filtered_df.to_csv(\"filtered_invoice_line.csv\", index=False)\n",
    "\n",
    "print(\"Filtered data saved to 'filtered_invoice_line.csv'\")\n"
   ]
  },
  {
   "cell_type": "code",
   "execution_count": 3,
   "id": "2e28598e",
   "metadata": {},
   "outputs": [
    {
     "name": "stdout",
     "output_type": "stream",
     "text": [
      "Duplicate rows removed. Saved as 'playlist_track_cleaned.csv'\n"
     ]
    }
   ],
   "source": [
    "\n",
    "\n",
    "# Load the CSV file\n",
    "df = pd.read_csv(\"playlist_track.csv\")\n",
    "\n",
    "# Remove duplicate rows\n",
    "df_cleaned = df.drop_duplicates()\n",
    "\n",
    "# Save the cleaned file\n",
    "df_cleaned.to_csv(\"playlist_track_cleaned.csv\", index=False)\n",
    "\n",
    "print(\"Duplicate rows removed. Saved as 'playlist_track_cleaned.csv'\")\n"
   ]
  },
  {
   "cell_type": "code",
   "execution_count": 4,
   "id": "1dc4e1ea",
   "metadata": {},
   "outputs": [],
   "source": [
    "\n",
    "\n",
    "df = pd.read_csv(\"playlist_track.csv\")\n",
    "df_cleaned = df.drop_duplicates(subset=\"playlist_id\")  # Only keep one row per playlist_id\n",
    "df_cleaned.to_csv(\"playlist_track_cleaned.csv\", index=False)\n"
   ]
  },
  {
   "cell_type": "code",
   "execution_count": null,
   "id": "547db51a",
   "metadata": {},
   "outputs": [],
   "source": []
  }
 ],
 "metadata": {
  "kernelspec": {
   "display_name": "base",
   "language": "python",
   "name": "python3"
  },
  "language_info": {
   "codemirror_mode": {
    "name": "ipython",
    "version": 3
   },
   "file_extension": ".py",
   "mimetype": "text/x-python",
   "name": "python",
   "nbconvert_exporter": "python",
   "pygments_lexer": "ipython3",
   "version": "3.12.7"
  }
 },
 "nbformat": 4,
 "nbformat_minor": 5
}
